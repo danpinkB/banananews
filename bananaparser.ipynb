{
 "cells": [
  {
   "cell_type": "code",
   "execution_count": 11,
   "id": "9c536a2d",
   "metadata": {},
   "outputs": [],
   "source": [
    "import collections.abc as collections\n",
    "import json\n",
    "import logging\n",
    "import os.path\n",
    "import threading\n",
    "import time\n",
    "from datetime import datetime\n",
    "from typing import Optional, List\n",
    "\n",
    "import requests\n",
    "from bs4 import BeautifulSoup\n",
    "from requests import Response"
   ]
  },
  {
   "cell_type": "code",
   "execution_count": 12,
   "id": "a1cc1a6c",
   "metadata": {},
   "outputs": [],
   "source": [
    "articles_req_url = \"https://www.binance.com/bapi/composite/v1/public/cms/news/queryFlashNewsList\"\n",
    "concrete_article_url = \"https://www.binance.com/en/news/flash/\"\n",
    "headers = {'User-Agent': 'Mozilla/5.0 (Windows NT 10.0; rv:91.0) Gecko/20100101 Firefox/91.0'}\n"
   ]
  },
  {
   "cell_type": "code",
   "execution_count": 13,
   "id": "4ef16dec",
   "metadata": {},
   "outputs": [],
   "source": [
    "class RequestObserver:\n",
    "    lock = threading.Lock()\n",
    "    hour_limit: int = 720000\n",
    "    minute_limit: int = 12000\n",
    "    delta: int = 0\n",
    "    last_parsed_date: float = datetime.now().timestamp()\n",
    "\n",
    "    @classmethod\n",
    "    def set_hour_limit(cls, hour_limit: int) -> None:\n",
    "        cls.lock.acquire()\n",
    "        cls.hour_limit = hour_limit\n",
    "        cls.minute_limit = int(hour_limit / 60)\n",
    "        cls.lock.release()\n",
    "\n",
    "    @classmethod\n",
    "    def req(cls, f, *args, **kwargs) -> Response:\n",
    "        cls.lock.acquire()\n",
    "        cls.delta += 1\n",
    "        now = datetime.now()\n",
    "        delta = 60-now.timestamp()-cls.last_parsed_date\n",
    "        if delta < 60:\n",
    "            if cls.delta >= cls.minute_limit:\n",
    "                time.sleep(60-now.timestamp()-cls.last_parsed_date)\n",
    "                cls.delta = 0\n",
    "                cls.last_parsed_date = datetime.now().timestamp()\n",
    "        else:\n",
    "            cls.delta = 0\n",
    "            cls.last_parsed_date = datetime.now().timestamp()\n",
    "        cls.lock.release()\n",
    "        return f(*args, **kwargs)"
   ]
  },
  {
   "cell_type": "code",
   "execution_count": 14,
   "id": "c0aacbc0",
   "metadata": {},
   "outputs": [],
   "source": [
    "class RequestError(Exception):\n",
    "    pass\n",
    "\n",
    "\n",
    "class ContentParsingError(Exception):\n",
    "    pass"
   ]
  },
  {
   "cell_type": "code",
   "execution_count": 15,
   "id": "8738b0d6",
   "metadata": {},
   "outputs": [],
   "source": [
    "class ArticleInfo:\n",
    "    header: str\n",
    "    content: str\n",
    "    publication_dt: datetime\n",
    "    parsing_dt: datetime\n",
    "    html: str\n",
    "    href: str\n",
    "    meta_keywords: List[str]\n",
    "\n",
    "\n",
    "class ArticleEncoder(json.JSONEncoder):\n",
    "    def default(self, obj):\n",
    "        if isinstance(obj, ArticleInfo):\n",
    "            return {\"header\": obj.header, \"content\": obj.content,\n",
    "                    \"publication_dt\": obj.publication_dt.strftime('%Y-%m-%dT%H:%M:%S%z'),\n",
    "                    \"parsing_dt\": obj.parsing_dt.strftime('%Y-%m-%dT%H:%M:%S%z'), \"html\": obj.html, \"href\": obj.href,\n",
    "                    \"meta_keywords\": obj.meta_keywords}\n",
    "\n",
    "        return super().default(obj)"
   ]
  },
  {
   "cell_type": "code",
   "execution_count": 16,
   "id": "cca09e86",
   "metadata": {},
   "outputs": [],
   "source": [
    "def get_all_articles_binance(from_dt: Optional[datetime], to_dt: Optional[datetime]) -> collections.Set[str]:\n",
    "    articles = set()\n",
    "    if from_dt < to_dt:\n",
    "        return articles\n",
    "    page = 1\n",
    "    resp = RequestObserver.req(requests.request, \"GET\", articles_req_url,\n",
    "                               params={\"pageNo\": page, \"pageSize\": 20, \"isTransform\": \"false\", \"tagId\": \"\"})\n",
    "    from_: float = from_dt.timestamp()\n",
    "    to_: float = to_dt.timestamp()\n",
    "    while True:\n",
    "        if resp.status_code > 299:\n",
    "            logging.log(msg=\"an error\")\n",
    "            return articles\n",
    "        articles_data: List = resp.json().get(\"data\").get(\"contents\")\n",
    "        for i in articles_data:\n",
    "            create_time: float = i.get(\"createTime\") / 1000\n",
    "            if create_time > from_:\n",
    "                continue\n",
    "            if create_time < to_:\n",
    "                return articles\n",
    "            articles.add(i.get('id'))\n",
    "        if len(articles_data) < 20:\n",
    "            break\n",
    "        page += 1\n",
    "        resp = RequestObserver.req(requests.request, \"GET\", articles_req_url,\n",
    "                                   params={\"pageNo\": page, \"pageSize\": 20, \"isTransform\": \"false\", \"tagId\": \"\"},\n",
    "                                   headers=headers)\n",
    "    return articles"
   ]
  },
  {
   "cell_type": "code",
   "execution_count": 17,
   "id": "33266725",
   "metadata": {},
   "outputs": [],
   "source": [
    "def get_article_info(href: str) -> str:\n",
    "    res = RequestObserver.req(requests.get, href, headers=headers)\n",
    "    if res.status_code > 299:\n",
    "        raise RequestError(f\"error while getting resource with status code - {res.status_code}\")\n",
    "    return res.text"
   ]
  },
  {
   "cell_type": "code",
   "execution_count": 18,
   "id": "9e32eda7",
   "metadata": {},
   "outputs": [],
   "source": [
    "def parse_article_binance(html: str) -> ArticleInfo:\n",
    "    bs_ = BeautifulSoup(html, \"html.parser\")\n",
    "    try:\n",
    "        article = bs_.find(\"article\", {\"class\": \"css-17l2a77\"})\n",
    "        info = ArticleInfo()\n",
    "        info.header = article.find(\"h1\", {\"class\": \"css-ps28d1\"}).text\n",
    "        info.publication_dt = datetime.strptime(article.find(\"div\", {\"class\": \"css-1hmgk20\"}).text, \"%Y-%m-%d %H:%M\")\n",
    "        info.content = article.find(\"div\", {\"class\": \"css-13uwx4b\"}).text\n",
    "        info.parsing_dt = datetime.now()\n",
    "        info.html = html\n",
    "        info.href = bs_.find(\"meta\", {\"property\": \"og:url\"})[\"content\"]\n",
    "        info.meta_keywords = bs_.find(\"meta\", {\"name\": \"keywords\"})[\"content\"].split(', ')\n",
    "    except TypeError as err:\n",
    "        raise ContentParsingError(\"some article element wasn't found\")\n",
    "    return info"
   ]
  },
  {
   "cell_type": "code",
   "execution_count": 19,
   "id": "31b14e7d",
   "metadata": {},
   "outputs": [],
   "source": [
    "def save_to_disk(file_name: str, article: ArticleInfo) -> None:\n",
    "    with open(f\"{file_name}.html\", \"w\") as html_file, open(f\"{file_name}.json\", \"w\") as json_file:\n",
    "        html_file.write(article.html)\n",
    "        article_json = json.dumps(article, cls=ArticleEncoder)\n",
    "        json_file.write(article_json)\n",
    "    return"
   ]
  },
  {
   "cell_type": "code",
   "execution_count": 20,
   "id": "78cce093",
   "metadata": {},
   "outputs": [],
   "source": [
    "def parse_articles(from_dt: Optional[datetime], to_dt: Optional[datetime], requests_per_hour: int = 720000) -> None:\n",
    "    RequestObserver.set_hour_limit(requests_per_hour)\n",
    "    for article in get_all_articles_binance(from_dt, to_dt):\n",
    "        filename = f\"./uploads/binance/binance_{article}\"\n",
    "        if not os.path.exists(filename+\".html\"):\n",
    "            try:\n",
    "                article_html = get_article_info(f\"https://www.binance.com/en/news/flash/{article}\")\n",
    "                save_to_disk(filename, parse_article_binance(article_html))\n",
    "            except Exception as ex:\n",
    "                logging.info(str(ex))"
   ]
  },
  {
   "cell_type": "code",
   "execution_count": null,
   "id": "dd448c89",
   "metadata": {},
   "outputs": [],
   "source": []
  }
 ],
 "metadata": {
  "kernelspec": {
   "display_name": "Python 3 (ipykernel)",
   "language": "python",
   "name": "python3"
  },
  "language_info": {
   "codemirror_mode": {
    "name": "ipython",
    "version": 3
   },
   "file_extension": ".py",
   "mimetype": "text/x-python",
   "name": "python",
   "nbconvert_exporter": "python",
   "pygments_lexer": "ipython3",
   "version": "3.9.16"
  }
 },
 "nbformat": 4,
 "nbformat_minor": 5
}
